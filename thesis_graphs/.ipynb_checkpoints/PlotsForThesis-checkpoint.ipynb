{
 "cells": [
  {
   "cell_type": "code",
   "execution_count": 18,
   "id": "76be2b34-2ed1-4db3-a41a-701a8cfc41da",
   "metadata": {},
   "outputs": [],
   "source": [
    "import pandas as pd\n",
    "import seaborn as sns\n",
    "import matplotlib.pyplot as plt\n",
    "from matplotlib.pyplot import figure"
   ]
  },
  {
   "cell_type": "markdown",
   "id": "3ceb74e4-c946-4b74-9e60-0d0b1b6e547b",
   "metadata": {},
   "source": [
    "<h1>1. Eval Plots for without criteria</h1>"
   ]
  },
  {
   "cell_type": "code",
   "execution_count": 19,
   "id": "c0aae70d-a5ca-497c-ad77-7e6ae4ffe254",
   "metadata": {},
   "outputs": [
    {
     "name": "stdout",
     "output_type": "stream",
     "text": [
      "(22, 20)\n"
     ]
    }
   ],
   "source": [
    "file_name = \"evaluationreport.xlsx\" # path to file + file name\n",
    "sheet =  \"validation_withoutcriteria\" # sheet name or sheet number or list of sheet numbers and names\n",
    "\n",
    "df = pd.read_excel(file_name, sheet_name=sheet)\n",
    "nocrtieria_df = df.set_index('US/ Criteria').T\n",
    "print(nocrtieria_df.shape)  # print first 5 rows of the dataframe"
   ]
  },
  {
   "cell_type": "code",
   "execution_count": 20,
   "id": "7245dba3-6002-4a78-b1cd-1887f69fc156",
   "metadata": {},
   "outputs": [
    {
     "data": {
      "text/plain": [
       "Index(['C1', 'C2', 'C3', 'C4', 'C5', 'C6', 'C7', 'C8', 'C9', 'C10', 'C11',\n",
       "       'C12', 'C13', 'C14', 'C15', 'C16', 'C17', 'C18', 'C19', 'C20'],\n",
       "      dtype='object', name='US/ Criteria')"
      ]
     },
     "execution_count": 20,
     "metadata": {},
     "output_type": "execute_result"
    }
   ],
   "source": [
    "nocrtieria_df.columns"
   ]
  },
  {
   "cell_type": "code",
   "execution_count": 21,
   "id": "7676ba71-a384-4ffc-821e-239216bcf3dc",
   "metadata": {},
   "outputs": [
    {
     "data": {
      "text/html": [
       "<div>\n",
       "<style scoped>\n",
       "    .dataframe tbody tr th:only-of-type {\n",
       "        vertical-align: middle;\n",
       "    }\n",
       "\n",
       "    .dataframe tbody tr th {\n",
       "        vertical-align: top;\n",
       "    }\n",
       "\n",
       "    .dataframe thead th {\n",
       "        text-align: right;\n",
       "    }\n",
       "</style>\n",
       "<table border=\"1\" class=\"dataframe\">\n",
       "  <thead>\n",
       "    <tr style=\"text-align: right;\">\n",
       "      <th>US/ Criteria</th>\n",
       "      <th>C1</th>\n",
       "      <th>C2</th>\n",
       "      <th>C3</th>\n",
       "      <th>C4</th>\n",
       "      <th>C5</th>\n",
       "      <th>C6</th>\n",
       "      <th>C7</th>\n",
       "      <th>C8</th>\n",
       "      <th>C9</th>\n",
       "      <th>C10</th>\n",
       "      <th>C11</th>\n",
       "      <th>C12</th>\n",
       "      <th>C13</th>\n",
       "      <th>C14</th>\n",
       "      <th>C15</th>\n",
       "      <th>C16</th>\n",
       "      <th>C17</th>\n",
       "      <th>C18</th>\n",
       "      <th>C19</th>\n",
       "      <th>C20</th>\n",
       "    </tr>\n",
       "  </thead>\n",
       "  <tbody>\n",
       "    <tr>\n",
       "      <th>g02-federalspending.txt</th>\n",
       "      <td>Yes</td>\n",
       "      <td>No</td>\n",
       "      <td>Not Applicable</td>\n",
       "      <td>Yes</td>\n",
       "      <td>No</td>\n",
       "      <td>No</td>\n",
       "      <td>Yes</td>\n",
       "      <td>Yes</td>\n",
       "      <td>No</td>\n",
       "      <td>No</td>\n",
       "      <td>No</td>\n",
       "      <td>Yes</td>\n",
       "      <td>No</td>\n",
       "      <td>No</td>\n",
       "      <td>No</td>\n",
       "      <td>No</td>\n",
       "      <td>Yes</td>\n",
       "      <td>Yes</td>\n",
       "      <td>No</td>\n",
       "      <td>Yes</td>\n",
       "    </tr>\n",
       "    <tr>\n",
       "      <th>g03-loudoun.txt</th>\n",
       "      <td>Yes</td>\n",
       "      <td>No</td>\n",
       "      <td>Not Applicable</td>\n",
       "      <td>Yes</td>\n",
       "      <td>No</td>\n",
       "      <td>No</td>\n",
       "      <td>Yes</td>\n",
       "      <td>Yes</td>\n",
       "      <td>No</td>\n",
       "      <td>No</td>\n",
       "      <td>No</td>\n",
       "      <td>No</td>\n",
       "      <td>No</td>\n",
       "      <td>No</td>\n",
       "      <td>No</td>\n",
       "      <td>No</td>\n",
       "      <td>Yes</td>\n",
       "      <td>No</td>\n",
       "      <td>No</td>\n",
       "      <td>Yes</td>\n",
       "    </tr>\n",
       "    <tr>\n",
       "      <th>g04-recycling.txt</th>\n",
       "      <td>Yes</td>\n",
       "      <td>No</td>\n",
       "      <td>Not Applicable</td>\n",
       "      <td>No</td>\n",
       "      <td>No</td>\n",
       "      <td>No</td>\n",
       "      <td>No</td>\n",
       "      <td>Not Applicable</td>\n",
       "      <td>No</td>\n",
       "      <td>No</td>\n",
       "      <td>No</td>\n",
       "      <td>No</td>\n",
       "      <td>No</td>\n",
       "      <td>No</td>\n",
       "      <td>No</td>\n",
       "      <td>No</td>\n",
       "      <td>Yes</td>\n",
       "      <td>Yes</td>\n",
       "      <td>No</td>\n",
       "      <td>Yes</td>\n",
       "    </tr>\n",
       "    <tr>\n",
       "      <th>g05-openspending.txt</th>\n",
       "      <td>No</td>\n",
       "      <td>Yes</td>\n",
       "      <td>Not Applicable</td>\n",
       "      <td>Yes</td>\n",
       "      <td>No</td>\n",
       "      <td>No</td>\n",
       "      <td>Yes</td>\n",
       "      <td>Not Applicable</td>\n",
       "      <td>No</td>\n",
       "      <td>No</td>\n",
       "      <td>No</td>\n",
       "      <td>No</td>\n",
       "      <td>No</td>\n",
       "      <td>No</td>\n",
       "      <td>No</td>\n",
       "      <td>No</td>\n",
       "      <td>Yes</td>\n",
       "      <td>No</td>\n",
       "      <td>No</td>\n",
       "      <td>No</td>\n",
       "    </tr>\n",
       "    <tr>\n",
       "      <th>g08-frictionless.txt</th>\n",
       "      <td>Yes</td>\n",
       "      <td>No</td>\n",
       "      <td>Not Applicable</td>\n",
       "      <td>No</td>\n",
       "      <td>No</td>\n",
       "      <td>No</td>\n",
       "      <td>Yes</td>\n",
       "      <td>Yes</td>\n",
       "      <td>Yes</td>\n",
       "      <td>No</td>\n",
       "      <td>No</td>\n",
       "      <td>No</td>\n",
       "      <td>No</td>\n",
       "      <td>No</td>\n",
       "      <td>No</td>\n",
       "      <td>No</td>\n",
       "      <td>Yes</td>\n",
       "      <td>Yes</td>\n",
       "      <td>No</td>\n",
       "      <td>Yes</td>\n",
       "    </tr>\n",
       "  </tbody>\n",
       "</table>\n",
       "</div>"
      ],
      "text/plain": [
       "US/ Criteria              C1   C2              C3   C4  C5  C6   C7  \\\n",
       "g02-federalspending.txt  Yes   No  Not Applicable  Yes  No  No  Yes   \n",
       "g03-loudoun.txt          Yes   No  Not Applicable  Yes  No  No  Yes   \n",
       "g04-recycling.txt        Yes   No  Not Applicable   No  No  No   No   \n",
       "g05-openspending.txt      No  Yes  Not Applicable  Yes  No  No  Yes   \n",
       "g08-frictionless.txt     Yes   No  Not Applicable   No  No  No  Yes   \n",
       "\n",
       "US/ Criteria                         C8   C9 C10 C11  C12 C13 C14 C15 C16  \\\n",
       "g02-federalspending.txt             Yes   No  No  No  Yes  No  No  No  No   \n",
       "g03-loudoun.txt                     Yes   No  No  No   No  No  No  No  No   \n",
       "g04-recycling.txt        Not Applicable   No  No  No   No  No  No  No  No   \n",
       "g05-openspending.txt     Not Applicable   No  No  No   No  No  No  No  No   \n",
       "g08-frictionless.txt                Yes  Yes  No  No   No  No  No  No  No   \n",
       "\n",
       "US/ Criteria             C17  C18 C19  C20  \n",
       "g02-federalspending.txt  Yes  Yes  No  Yes  \n",
       "g03-loudoun.txt          Yes   No  No  Yes  \n",
       "g04-recycling.txt        Yes  Yes  No  Yes  \n",
       "g05-openspending.txt     Yes   No  No   No  \n",
       "g08-frictionless.txt     Yes  Yes  No  Yes  "
      ]
     },
     "execution_count": 21,
     "metadata": {},
     "output_type": "execute_result"
    }
   ],
   "source": [
    "nocrtieria_df.head()"
   ]
  },
  {
   "cell_type": "code",
   "execution_count": 22,
   "id": "2f1e0e19-f5c7-4af4-a91e-c7f4a6201ca7",
   "metadata": {},
   "outputs": [],
   "source": [
    "def C1_Pass(row):\n",
    "    if row == \"Yes\": return \"Pass\"\n",
    "    elif row == \"No\": return \"Fail\"\n",
    "    \n",
    "    \n",
    "def C2_Pass(row):\n",
    "    if row == \"Yes\": return \"Fail\"\n",
    "    elif row == \"No\": return \"Pass\"\n",
    "    \n",
    "    \n",
    "def C3_Pass(row):\n",
    "    if row  == \"Yes\": return \"Pass\"\n",
    "    elif row  == \"No\": return \"Fail\"\n",
    "    elif row == \"Not Applicable\": return \"Pass\"\n",
    "    \n",
    "    \n",
    "def C4_Pass(row):\n",
    "    if row == \"Yes\": return \"Pass\"\n",
    "    elif row == \"No\": return \"Fail\"\n",
    "    elif row == \"Not Applicable\": return \"Pass\"\n",
    "    \n",
    "    \n",
    "def C5_Pass(row):\n",
    "    if row == \"Yes\": return \"Fail\"\n",
    "    elif row == \"No\": return \"Pass\"\n",
    "    \n",
    "    \n",
    "def C6_Pass(row):\n",
    "    if row == \"Yes\": return \"Fail\"\n",
    "    elif row == \"No\": return \"Pass\"\n",
    "    \n",
    "    \n",
    "def C7_Pass(row):\n",
    "    if row == \"Yes\": return \"Pass\"\n",
    "    elif row == \"No\": return \"Fail\"\n",
    "    elif row == \"Not Applicable\": return \"Pass\"\n",
    "    \n",
    "    \n",
    "def C8_Pass(row):\n",
    "    if row == \"Yes\": return \"Pass\"\n",
    "    elif row == \"No\": return \"Fail\"\n",
    "    \n",
    "def C9_Pass(row):\n",
    "    if row == \"Yes\": return \"Fail\"\n",
    "    elif row == \"No\": return \"Pass\"\n",
    "\n",
    "\n",
    "def C10_Pass(row):\n",
    "    if row == \"Yes\": return \"Fail\"\n",
    "    elif row == \"No\": return \"Pass\"\n",
    "    \n",
    "    \n",
    "def C11_Pass(row):\n",
    "    if row == \"Yes\": return \"Fail\"\n",
    "    elif row == \"No\": return \"Pass\"\n",
    "    \n",
    "    \n",
    "def C12_Pass(row):\n",
    "    if row == \"Yes\": return \"Fail\"\n",
    "    elif row == \"No\": return \"Pass\"\n",
    "    \n",
    "def C13_Pass(row):\n",
    "    if row == \"Yes\": return \"Fail\"\n",
    "    elif row == \"No\": return \"Pass\"\n",
    "    \n",
    "    \n",
    "def C14_Pass(row):\n",
    "    if row == \"Yes\": return \"Fail\"\n",
    "    elif row == \"No\": return \"Pass\"\n",
    "    \n",
    "    \n",
    "def C15_Pass(row):\n",
    "    if row == \"Yes\": return \"Fail\"\n",
    "    elif row == \"No\": return \"Pass\"\n",
    "    \n",
    "    \n",
    "def C16_Pass(row):\n",
    "    if row == \"Yes\": return \"Fail\"\n",
    "    elif row == \"No\": return \"Pass\"\n",
    "    \n",
    "    \n",
    "def C17_Pass(row):\n",
    "    if row == \"Yes\": return \"Pass\"\n",
    "    elif row == \"No\": return \"Fail\"\n",
    "    \n",
    "    \n",
    "def C18_Pass(row):\n",
    "    if row == \"Yes\": return \"Pass\"\n",
    "    elif row == \"No\": return \"Fail\"\n",
    "    \n",
    "    \n",
    "def C19_Pass(row):\n",
    "    if row == \"Yes\": return \"Fail\"\n",
    "    elif row == \"No\": return \"Pass\"\n",
    "    \n",
    "    \n",
    "def C20_Pass(row):\n",
    "    if row == \"Yes\": return \"Pass\"\n",
    "    elif row == \"No\": return \"Fail\"\n",
    "    "
   ]
  },
  {
   "cell_type": "code",
   "execution_count": 23,
   "id": "4d6f6f43-0b0c-4ba7-bc75-95c6a4de7c74",
   "metadata": {},
   "outputs": [],
   "source": [
    "nocrtieria_df[\"C1_Grade\"] = nocrtieria_df[\"C1\"].apply(C1_Pass)\n",
    "nocrtieria_df[\"C2_Grade\"] = nocrtieria_df[\"C2\"].apply(C2_Pass)\n",
    "nocrtieria_df[\"C3_Grade\"] = nocrtieria_df[\"C3\"].apply(C3_Pass)\n",
    "nocrtieria_df[\"C4_Grade\"] = nocrtieria_df[\"C4\"].apply(C4_Pass)\n",
    "nocrtieria_df[\"C5_Grade\"] = nocrtieria_df[\"C5\"].apply(C5_Pass)\n",
    "nocrtieria_df[\"C6_Grade\"] = nocrtieria_df[\"C6\"].apply(C6_Pass)\n",
    "nocrtieria_df[\"C7_Grade\"] = nocrtieria_df[\"C7\"].apply(C7_Pass)\n",
    "nocrtieria_df[\"C8_Grade\"] = nocrtieria_df[\"C8\"].apply(C8_Pass)\n",
    "nocrtieria_df[\"C9_Grade\"] = nocrtieria_df[\"C9\"].apply(C9_Pass)\n",
    "nocrtieria_df[\"C10_Grade\"] = nocrtieria_df[\"C10\"].apply(C1_Pass)\n",
    "\n",
    "nocrtieria_df[\"C11_Grade\"] = nocrtieria_df[\"C11\"].apply(C11_Pass)\n",
    "nocrtieria_df[\"C12_Grade\"] = nocrtieria_df[\"C12\"].apply(C12_Pass)\n",
    "nocrtieria_df[\"C13_Grade\"] = nocrtieria_df[\"C13\"].apply(C13_Pass)\n",
    "nocrtieria_df[\"C14_Grade\"] = nocrtieria_df[\"C14\"].apply(C14_Pass)\n",
    "nocrtieria_df[\"C15_Grade\"] = nocrtieria_df[\"C15\"].apply(C15_Pass)\n",
    "nocrtieria_df[\"C16_Grade\"] = nocrtieria_df[\"C16\"].apply(C16_Pass)\n",
    "nocrtieria_df[\"C17_Grade\"] = nocrtieria_df[\"C17\"].apply(C17_Pass)\n",
    "nocrtieria_df[\"C18_Grade\"] = nocrtieria_df[\"C18\"].apply(C18_Pass)\n",
    "nocrtieria_df[\"C19_Grade\"] = nocrtieria_df[\"C19\"].apply(C19_Pass)\n",
    "nocrtieria_df[\"C20_Grade\"] = nocrtieria_df[\"C20\"].apply(C20_Pass)\n"
   ]
  },
  {
   "cell_type": "code",
   "execution_count": 24,
   "id": "8b5ffb7f-8a61-4045-9c18-cc349d9cae30",
   "metadata": {},
   "outputs": [
    {
     "data": {
      "text/plain": [
       "Index(['C1_Grade', 'C2_Grade', 'C3_Grade', 'C4_Grade', 'C5_Grade', 'C6_Grade',\n",
       "       'C7_Grade', 'C8_Grade', 'C9_Grade', 'C10_Grade', 'C11_Grade',\n",
       "       'C12_Grade', 'C13_Grade', 'C14_Grade', 'C15_Grade', 'C16_Grade',\n",
       "       'C17_Grade', 'C18_Grade', 'C19_Grade', 'C20_Grade'],\n",
       "      dtype='object', name='US/ Criteria')"
      ]
     },
     "execution_count": 24,
     "metadata": {},
     "output_type": "execute_result"
    }
   ],
   "source": [
    "nocrtieria_df.drop(columns=['C1', 'C2', 'C3', 'C4', 'C5', 'C6', 'C7', 'C8', 'C9', 'C10', 'C11',\n",
    "       'C12', 'C13', 'C14', 'C15', 'C16', 'C17', 'C18', 'C19', 'C20'], inplace=True)\n",
    "\n",
    "nocrtieria_df.columns"
   ]
  },
  {
   "cell_type": "code",
   "execution_count": 25,
   "id": "ce7c7493-5ad9-4667-882c-db71c35c3897",
   "metadata": {},
   "outputs": [
    {
     "data": {
      "image/png": "[encoded data removed]",
      "text/plain": [
       "<Figure size 1400x200 with 1 Axes>"
      ]
     },
     "metadata": {},
     "output_type": "display_data"
    }
   ],
   "source": [
    "\n",
    "figure(figsize=(14, 2))\n",
    "\n",
    "nocrtieria_df.columns = ['C1', 'C2', 'C3', 'C4', 'C5', 'C6', 'C7', 'C8', 'C9', 'C10', 'C11',\n",
    "       'C12', 'C13', 'C14', 'C15', 'C16', 'C17', 'C18', 'C19', 'C20']\n",
    "df1 = nocrtieria_df.melt(var_name='Criteria', value_name='Result')\n",
    "\n",
    "\n",
    "plot = sns.countplot(x='Criteria', hue='Result', data=df1, palette=['green',\"red\"])\n",
    "plot.set_title(\"Semantic Evaluation Results without Criteria\")\n",
    "plot.set(xlabel=\"\")\n",
    "plt.xticks(rotation=90)\n",
    "plt.tight_layout()\n",
    "plt.savefig('semantic_without_criteria.png');"
   ]
  },
  {
   "cell_type": "code",
   "execution_count": null,
   "id": "e906f805-b433-4fb6-a0a1-37990c9a887b",
   "metadata": {},
   "outputs": [],
   "source": []
  },
  {
   "cell_type": "markdown",
   "id": "58729d67-7582-40de-9bdf-6f23b0cf7230",
   "metadata": {},
   "source": [
    "<h1>2. Eval Plots for with criteria</h1>"
   ]
  },
  {
   "cell_type": "code",
   "execution_count": 26,
   "id": "ce8b796b-2f19-451a-94ec-be3fe8a5b433",
   "metadata": {},
   "outputs": [
    {
     "name": "stdin",
     "output_type": "stream",
     "text": [
      "Once deleted, variables cannot be recovered. Proceed (y/[n])?  y\n"
     ]
    }
   ],
   "source": [
    "%reset"
   ]
  },
  {
   "cell_type": "code",
   "execution_count": 27,
   "id": "03b2c21f-240e-477a-8425-c897bb6f32a8",
   "metadata": {},
   "outputs": [],
   "source": [
    "import pandas as pd\n",
    "import seaborn as sns\n",
    "import matplotlib.pyplot as plt\n",
    "from matplotlib.pyplot import figure"
   ]
  },
  {
   "cell_type": "code",
   "execution_count": 28,
   "id": "ae3a5c06-b28d-4687-a4e4-404f6bc94a44",
   "metadata": {},
   "outputs": [
    {
     "name": "stdout",
     "output_type": "stream",
     "text": [
      "(22, 20)\n"
     ]
    }
   ],
   "source": [
    "file_name = \"evaluationreport.xlsx\" # path to file + file name\n",
    "sheet =  \"validation_withcriteria\" # sheet name or sheet number or list of sheet numbers and names\n",
    "\n",
    "df2 = pd.read_excel(file_name, sheet_name=sheet)\n",
    "withcrtieria_df = df2.set_index('US/ Criteria').T\n",
    "print(withcrtieria_df.shape)  # print first 5 rows of the dataframe"
   ]
  },
  {
   "cell_type": "code",
   "execution_count": 29,
   "id": "7910645f-f085-4ff6-afa0-6f824a5b1d23",
   "metadata": {},
   "outputs": [
    {
     "data": {
      "text/plain": [
       "Index(['C1', 'C2', 'C3', 'C4', 'C5', 'C6', 'C7', 'C8', 'C9', 'C10', 'C11',\n",
       "       'C12', 'C13', 'C14', 'C15', 'C16', 'C17', 'C18', 'C19', 'C20'],\n",
       "      dtype='object', name='US/ Criteria')"
      ]
     },
     "execution_count": 29,
     "metadata": {},
     "output_type": "execute_result"
    }
   ],
   "source": [
    "withcrtieria_df.columns"
   ]
  },
  {
   "cell_type": "code",
   "execution_count": 30,
   "id": "5cb9efee-e342-4e40-983a-164476f18800",
   "metadata": {},
   "outputs": [
    {
     "data": {
      "text/html": [
       "<div>\n",
       "<style scoped>\n",
       "    .dataframe tbody tr th:only-of-type {\n",
       "        vertical-align: middle;\n",
       "    }\n",
       "\n",
       "    .dataframe tbody tr th {\n",
       "        vertical-align: top;\n",
       "    }\n",
       "\n",
       "    .dataframe thead th {\n",
       "        text-align: right;\n",
       "    }\n",
       "</style>\n",
       "<table border=\"1\" class=\"dataframe\">\n",
       "  <thead>\n",
       "    <tr style=\"text-align: right;\">\n",
       "      <th>US/ Criteria</th>\n",
       "      <th>C1</th>\n",
       "      <th>C2</th>\n",
       "      <th>C3</th>\n",
       "      <th>C4</th>\n",
       "      <th>C5</th>\n",
       "      <th>C6</th>\n",
       "      <th>C7</th>\n",
       "      <th>C8</th>\n",
       "      <th>C9</th>\n",
       "      <th>C10</th>\n",
       "      <th>C11</th>\n",
       "      <th>C12</th>\n",
       "      <th>C13</th>\n",
       "      <th>C14</th>\n",
       "      <th>C15</th>\n",
       "      <th>C16</th>\n",
       "      <th>C17</th>\n",
       "      <th>C18</th>\n",
       "      <th>C19</th>\n",
       "      <th>C20</th>\n",
       "    </tr>\n",
       "  </thead>\n",
       "  <tbody>\n",
       "    <tr>\n",
       "      <th>g02-federalspending.txt</th>\n",
       "      <td>Yes</td>\n",
       "      <td>Yes</td>\n",
       "      <td>Not Applicable</td>\n",
       "      <td>Yes</td>\n",
       "      <td>No</td>\n",
       "      <td>No</td>\n",
       "      <td>Yes</td>\n",
       "      <td>No</td>\n",
       "      <td>No</td>\n",
       "      <td>Yes</td>\n",
       "      <td>No</td>\n",
       "      <td>No</td>\n",
       "      <td>No</td>\n",
       "      <td>No</td>\n",
       "      <td>No</td>\n",
       "      <td>No</td>\n",
       "      <td>Yes</td>\n",
       "      <td>Yes</td>\n",
       "      <td>Yes</td>\n",
       "      <td>Yes</td>\n",
       "    </tr>\n",
       "    <tr>\n",
       "      <th>g03-loudoun.txt</th>\n",
       "      <td>Yes</td>\n",
       "      <td>No</td>\n",
       "      <td>Not Applicable</td>\n",
       "      <td>Yes</td>\n",
       "      <td>No</td>\n",
       "      <td>No</td>\n",
       "      <td>Yes</td>\n",
       "      <td>No</td>\n",
       "      <td>No</td>\n",
       "      <td>Yes</td>\n",
       "      <td>No</td>\n",
       "      <td>No</td>\n",
       "      <td>No</td>\n",
       "      <td>No</td>\n",
       "      <td>No</td>\n",
       "      <td>No</td>\n",
       "      <td>Yes</td>\n",
       "      <td>Yes</td>\n",
       "      <td>No</td>\n",
       "      <td>Yes</td>\n",
       "    </tr>\n",
       "    <tr>\n",
       "      <th>g04-recycling.txt</th>\n",
       "      <td>Yes</td>\n",
       "      <td>No</td>\n",
       "      <td>Not Applicable</td>\n",
       "      <td>Yes</td>\n",
       "      <td>No</td>\n",
       "      <td>No</td>\n",
       "      <td>Yes</td>\n",
       "      <td>Yes</td>\n",
       "      <td>No</td>\n",
       "      <td>Yes</td>\n",
       "      <td>No</td>\n",
       "      <td>No</td>\n",
       "      <td>No</td>\n",
       "      <td>No</td>\n",
       "      <td>No</td>\n",
       "      <td>No</td>\n",
       "      <td>Yes</td>\n",
       "      <td>Yes</td>\n",
       "      <td>No</td>\n",
       "      <td>Yes</td>\n",
       "    </tr>\n",
       "    <tr>\n",
       "      <th>g05-openspending.txt</th>\n",
       "      <td>Yes</td>\n",
       "      <td>No</td>\n",
       "      <td>Not Applicable</td>\n",
       "      <td>Yes</td>\n",
       "      <td>No</td>\n",
       "      <td>No</td>\n",
       "      <td>Yes</td>\n",
       "      <td>Not Applicable</td>\n",
       "      <td>Yes</td>\n",
       "      <td>No</td>\n",
       "      <td>No</td>\n",
       "      <td>No</td>\n",
       "      <td>No</td>\n",
       "      <td>No</td>\n",
       "      <td>No</td>\n",
       "      <td>No</td>\n",
       "      <td>Yes</td>\n",
       "      <td>Yes</td>\n",
       "      <td>No</td>\n",
       "      <td>Yes</td>\n",
       "    </tr>\n",
       "    <tr>\n",
       "      <th>g08-frictionless.txt</th>\n",
       "      <td>Yes</td>\n",
       "      <td>No</td>\n",
       "      <td>Not Applicable</td>\n",
       "      <td>Yes</td>\n",
       "      <td>No</td>\n",
       "      <td>No</td>\n",
       "      <td>Yes</td>\n",
       "      <td>Yes</td>\n",
       "      <td>No</td>\n",
       "      <td>No</td>\n",
       "      <td>No</td>\n",
       "      <td>No</td>\n",
       "      <td>No</td>\n",
       "      <td>No</td>\n",
       "      <td>No</td>\n",
       "      <td>No</td>\n",
       "      <td>Yes</td>\n",
       "      <td>Yes</td>\n",
       "      <td>No</td>\n",
       "      <td>Yes</td>\n",
       "    </tr>\n",
       "  </tbody>\n",
       "</table>\n",
       "</div>"
      ],
      "text/plain": [
       "US/ Criteria              C1   C2              C3   C4  C5  C6   C7  \\\n",
       "g02-federalspending.txt  Yes  Yes  Not Applicable  Yes  No  No  Yes   \n",
       "g03-loudoun.txt          Yes   No  Not Applicable  Yes  No  No  Yes   \n",
       "g04-recycling.txt        Yes   No  Not Applicable  Yes  No  No  Yes   \n",
       "g05-openspending.txt     Yes   No  Not Applicable  Yes  No  No  Yes   \n",
       "g08-frictionless.txt     Yes   No  Not Applicable  Yes  No  No  Yes   \n",
       "\n",
       "US/ Criteria                         C8   C9  C10 C11 C12 C13 C14 C15 C16  \\\n",
       "g02-federalspending.txt              No   No  Yes  No  No  No  No  No  No   \n",
       "g03-loudoun.txt                      No   No  Yes  No  No  No  No  No  No   \n",
       "g04-recycling.txt                   Yes   No  Yes  No  No  No  No  No  No   \n",
       "g05-openspending.txt     Not Applicable  Yes   No  No  No  No  No  No  No   \n",
       "g08-frictionless.txt                Yes   No   No  No  No  No  No  No  No   \n",
       "\n",
       "US/ Criteria             C17  C18  C19  C20  \n",
       "g02-federalspending.txt  Yes  Yes  Yes  Yes  \n",
       "g03-loudoun.txt          Yes  Yes   No  Yes  \n",
       "g04-recycling.txt        Yes  Yes   No  Yes  \n",
       "g05-openspending.txt     Yes  Yes   No  Yes  \n",
       "g08-frictionless.txt     Yes  Yes   No  Yes  "
      ]
     },
     "execution_count": 30,
     "metadata": {},
     "output_type": "execute_result"
    }
   ],
   "source": [
    "withcrtieria_df.head()"
   ]
  },
  {
   "cell_type": "code",
   "execution_count": 31,
   "id": "c2e7ebcf-24a8-4cbf-90bb-668df7c62ada",
   "metadata": {},
   "outputs": [],
   "source": [
    "def C1_Pass(row):\n",
    "    if row == \"Yes\": return \"Pass\"\n",
    "    elif row == \"No\": return \"Fail\"\n",
    "    \n",
    "    \n",
    "def C2_Pass(row):\n",
    "    if row == \"Yes\": return \"Fail\"\n",
    "    elif row == \"No\": return \"Pass\"\n",
    "    \n",
    "    \n",
    "def C3_Pass(row):\n",
    "    if row  == \"Yes\": return \"Pass\"\n",
    "    elif row  == \"No\": return \"Fail\"\n",
    "    elif row == \"Not Applicable\": return \"Pass\"\n",
    "    \n",
    "    \n",
    "def C4_Pass(row):\n",
    "    if row == \"Yes\": return \"Pass\"\n",
    "    elif row == \"No\": return \"Fail\"\n",
    "    elif row == \"Not Applicable\": return \"Pass\"\n",
    "    \n",
    "    \n",
    "def C5_Pass(row):\n",
    "    if row == \"Yes\": return \"Fail\"\n",
    "    elif row == \"No\": return \"Pass\"\n",
    "    \n",
    "    \n",
    "def C6_Pass(row):\n",
    "    if row == \"Yes\": return \"Fail\"\n",
    "    elif row == \"No\": return \"Pass\"\n",
    "    \n",
    "    \n",
    "def C7_Pass(row):\n",
    "    if row == \"Yes\": return \"Pass\"\n",
    "    elif row == \"No\": return \"Fail\"\n",
    "    elif row == \"Not Applicable\": return \"Pass\"\n",
    "    \n",
    "    \n",
    "def C8_Pass(row):\n",
    "    if row == \"Yes\": return \"Pass\"\n",
    "    elif row == \"No\": return \"Fail\"\n",
    "    \n",
    "def C9_Pass(row):\n",
    "    if row == \"Yes\": return \"Fail\"\n",
    "    elif row == \"No\": return \"Pass\"\n",
    "\n",
    "\n",
    "def C10_Pass(row):\n",
    "    if row == \"Yes\": return \"Fail\"\n",
    "    elif row == \"No\": return \"Pass\"\n",
    "    \n",
    "    \n",
    "def C11_Pass(row):\n",
    "    if row == \"Yes\": return \"Fail\"\n",
    "    elif row == \"No\": return \"Pass\"\n",
    "    \n",
    "    \n",
    "def C12_Pass(row):\n",
    "    if row == \"Yes\": return \"Fail\"\n",
    "    elif row == \"No\": return \"Pass\"\n",
    "    \n",
    "def C13_Pass(row):\n",
    "    if row == \"Yes\": return \"Fail\"\n",
    "    elif row == \"No\": return \"Pass\"\n",
    "    \n",
    "    \n",
    "def C14_Pass(row):\n",
    "    if row == \"Yes\": return \"Fail\"\n",
    "    elif row == \"No\": return \"Pass\"\n",
    "    \n",
    "    \n",
    "def C15_Pass(row):\n",
    "    if row == \"Yes\": return \"Fail\"\n",
    "    elif row == \"No\": return \"Pass\"\n",
    "    \n",
    "    \n",
    "def C16_Pass(row):\n",
    "    if row == \"Yes\": return \"Fail\"\n",
    "    elif row == \"No\": return \"Pass\"\n",
    "    \n",
    "    \n",
    "def C17_Pass(row):\n",
    "    if row == \"Yes\": return \"Pass\"\n",
    "    elif row == \"No\": return \"Fail\"\n",
    "    \n",
    "    \n",
    "def C18_Pass(row):\n",
    "    if row == \"Yes\": return \"Pass\"\n",
    "    elif row == \"No\": return \"Fail\"\n",
    "    \n",
    "    \n",
    "def C19_Pass(row):\n",
    "    if row == \"Yes\": return \"Fail\"\n",
    "    elif row == \"No\": return \"Pass\"\n",
    "    \n",
    "    \n",
    "def C20_Pass(row):\n",
    "    if row == \"Yes\": return \"Pass\"\n",
    "    elif row == \"No\": return \"Fail\"\n",
    "    "
   ]
  },
  {
   "cell_type": "code",
   "execution_count": 32,
   "id": "96badd5a-8f04-4b9d-9367-28e31aa1bbad",
   "metadata": {},
   "outputs": [
    {
     "data": {
      "text/plain": [
       "Index(['C1_Grade', 'C2_Grade', 'C3_Grade', 'C4_Grade', 'C5_Grade', 'C6_Grade',\n",
       "       'C7_Grade', 'C8_Grade', 'C9_Grade', 'C10_Grade', 'C11_Grade',\n",
       "       'C12_Grade', 'C13_Grade', 'C14_Grade', 'C15_Grade', 'C16_Grade',\n",
       "       'C17_Grade', 'C18_Grade', 'C19_Grade', 'C20_Grade'],\n",
       "      dtype='object', name='US/ Criteria')"
      ]
     },
     "execution_count": 32,
     "metadata": {},
     "output_type": "execute_result"
    }
   ],
   "source": [
    "withcrtieria_df[\"C1_Grade\"] = withcrtieria_df[\"C1\"].apply(C1_Pass)\n",
    "withcrtieria_df[\"C2_Grade\"] = withcrtieria_df[\"C2\"].apply(C2_Pass)\n",
    "withcrtieria_df[\"C3_Grade\"] = withcrtieria_df[\"C3\"].apply(C3_Pass)\n",
    "withcrtieria_df[\"C4_Grade\"] = withcrtieria_df[\"C4\"].apply(C4_Pass)\n",
    "withcrtieria_df[\"C5_Grade\"] = withcrtieria_df[\"C5\"].apply(C5_Pass)\n",
    "withcrtieria_df[\"C6_Grade\"] = withcrtieria_df[\"C6\"].apply(C6_Pass)\n",
    "withcrtieria_df[\"C7_Grade\"] = withcrtieria_df[\"C7\"].apply(C7_Pass)\n",
    "withcrtieria_df[\"C8_Grade\"] = withcrtieria_df[\"C8\"].apply(C8_Pass)\n",
    "withcrtieria_df[\"C9_Grade\"] = withcrtieria_df[\"C9\"].apply(C9_Pass)\n",
    "withcrtieria_df[\"C10_Grade\"] = withcrtieria_df[\"C10\"].apply(C10_Pass)\n",
    "\n",
    "withcrtieria_df[\"C11_Grade\"] = withcrtieria_df[\"C11\"].apply(C11_Pass)\n",
    "withcrtieria_df[\"C12_Grade\"] = withcrtieria_df[\"C12\"].apply(C12_Pass)\n",
    "withcrtieria_df[\"C13_Grade\"] = withcrtieria_df[\"C13\"].apply(C13_Pass)\n",
    "withcrtieria_df[\"C14_Grade\"] = withcrtieria_df[\"C14\"].apply(C14_Pass)\n",
    "withcrtieria_df[\"C15_Grade\"] = withcrtieria_df[\"C15\"].apply(C15_Pass)\n",
    "withcrtieria_df[\"C16_Grade\"] = withcrtieria_df[\"C16\"].apply(C16_Pass)\n",
    "withcrtieria_df[\"C17_Grade\"] = withcrtieria_df[\"C17\"].apply(C17_Pass)\n",
    "withcrtieria_df[\"C18_Grade\"] = withcrtieria_df[\"C18\"].apply(C18_Pass)\n",
    "withcrtieria_df[\"C19_Grade\"] = withcrtieria_df[\"C19\"].apply(C19_Pass)\n",
    "withcrtieria_df[\"C20_Grade\"] = withcrtieria_df[\"C20\"].apply(C20_Pass)\n",
    "\n",
    "withcrtieria_df.drop(columns=['C1', 'C2', 'C3', 'C4', 'C5', 'C6', 'C7', 'C8', 'C9', 'C10', 'C11',\n",
    "       'C12', 'C13', 'C14', 'C15', 'C16', 'C17', 'C18', 'C19', 'C20'], inplace=True)\n",
    "\n",
    "withcrtieria_df.columns"
   ]
  },
  {
   "cell_type": "code",
   "execution_count": 33,
   "id": "6742ce27-70f0-47db-9b69-b8a57b5cffa2",
   "metadata": {},
   "outputs": [
    {
     "data": {
      "image/png": "[encoded data removed]",
      "text/plain": [
       "<Figure size 1400x200 with 1 Axes>"
      ]
     },
     "metadata": {},
     "output_type": "display_data"
    }
   ],
   "source": [
    "\n",
    "figure(figsize=(14, 2))\n",
    "\n",
    "withcrtieria_df.columns = ['C1', 'C2', 'C3', 'C4', 'C5', 'C6', 'C7', 'C8', 'C9', 'C10', 'C11',\n",
    "       'C12', 'C13', 'C14', 'C15', 'C16', 'C17', 'C18', 'C19', 'C20']\n",
    "df1 = withcrtieria_df.melt(var_name='Criteria', value_name='Result')\n",
    "\n",
    "\n",
    "plot = sns.countplot(x='Criteria', hue='Result', data=df1, palette=['green',\"red\"])\n",
    "plot.set_title(\"Semantic Evaluation Results with Criteria\")\n",
    "plot.set(xlabel=\"\")\n",
    "plt.xticks(rotation=90)\n",
    "plt.tight_layout()\n",
    "plt.savefig('./semantic_with_criteria.png');"
   ]
  },
  {
   "cell_type": "markdown",
   "id": "c95c59f7-fa6f-4747-b93b-1ab29c3f6f8f",
   "metadata": {},
   "source": [
    "<h1>Plots for intentional elements</h1>"
   ]
  },
  {
   "cell_type": "code",
   "execution_count": 35,
   "id": "acb60591-a35f-4881-a204-bd0b927a12bd",
   "metadata": {},
   "outputs": [
    {
     "name": "stdin",
     "output_type": "stream",
     "text": [
      "Once deleted, variables cannot be recovered. Proceed (y/[n])?  y\n"
     ]
    }
   ],
   "source": [
    "%reset"
   ]
  },
  {
   "cell_type": "code",
   "execution_count": 36,
   "id": "0f2c7792-0ba9-4912-85e3-12c3ffd5176b",
   "metadata": {},
   "outputs": [],
   "source": [
    "import pandas as pd\n",
    "import seaborn as sns\n",
    "import matplotlib.pyplot as plt\n",
    "from matplotlib.pyplot import figure\n",
    "import numpy as np"
   ]
  },
  {
   "cell_type": "code",
   "execution_count": 37,
   "id": "4de14a6a-c621-4334-8005-106aaeb8f0f3",
   "metadata": {},
   "outputs": [
    {
     "name": "stdout",
     "output_type": "stream",
     "text": [
      "(22, 13)\n"
     ]
    }
   ],
   "source": [
    "file_name = \"evaluationreport.xlsx\" # path to file + file name\n",
    "sheet =  \"elements_comparison\" # sheet name or sheet number or list of sheet numbers and names\n",
    "\n",
    "totalelements_df = pd.read_excel(file_name, sheet_name=sheet)\n",
    "print(totalelements_df.shape)  # print first 5 rows of the dataframe"
   ]
  },
  {
   "cell_type": "code",
   "execution_count": 38,
   "id": "cc0021db-b9e7-43c6-bc5c-2f6e8371ab08",
   "metadata": {},
   "outputs": [
    {
     "data": {
      "text/plain": [
       "Index(['US Set Name', 'US Set', 'intentional elements in LLM',\n",
       "       'intentional elements from NLP Model',\n",
       "       'Intentional elements in Goal model', 'Actors', 'Goals', 'Soft Goals',\n",
       "       'Tasks', 'Resources', 'Contribution', 'Decomposition', 'Dependency'],\n",
       "      dtype='object')"
      ]
     },
     "execution_count": 38,
     "metadata": {},
     "output_type": "execute_result"
    }
   ],
   "source": [
    "totalelements_df.columns"
   ]
  },
  {
   "cell_type": "code",
   "execution_count": 39,
   "id": "5d0417ed-922f-47bd-8a22-e8a4274a17cd",
   "metadata": {},
   "outputs": [
    {
     "data": {
      "image/png": "[encoded data removed]",
      "text/plain": [
       "<Figure size 640x480 with 1 Axes>"
      ]
     },
     "metadata": {},
     "output_type": "display_data"
    }
   ],
   "source": [
    "\n",
    "X_axis = np.arange(totalelements_df.shape[0]) \n",
    "  \n",
    "plt.bar(X_axis - 0.2, totalelements_df['intentional elements in LLM'], 0.4, label = 'LLM') \n",
    "plt.bar(X_axis + 0.2, totalelements_df['intentional elements from NLP Model'], 0.4, label = 'NLP') \n",
    "  \n",
    "plt.xticks(X_axis, totalelements_df['US Set']) \n",
    "plt.xlabel(\"\") \n",
    "plt.ylabel(\"Number of intentional elements\") \n",
    "plt.title(\"Comparison of intentional elements identified by LLM vs NLP\") \n",
    "plt.xticks(rotation=90);\n",
    "plt.legend() \n",
    "plt.tight_layout()\n",
    "plt.savefig('./elements_llm_vs_nlp.png');"
   ]
  },
  {
   "cell_type": "code",
   "execution_count": 74,
   "id": "0aac837e-0399-4429-8224-2449caabe825",
   "metadata": {},
   "outputs": [],
   "source": [
    "totalelements_df['Sum_Elements'] = totalelements_df[['Actors', 'Goals', 'Soft Goals',\n",
    "       'Tasks', 'Resources']].sum(axis=1)\n",
    "\n",
    "totalelements_df['Sum_relationships'] = totalelements_df[['Contribution',\t'Decomposition',\t'Dependency']].sum(axis=1)"
   ]
  },
  {
   "cell_type": "code",
   "execution_count": null,
   "id": "eb2a6171-4204-4aa9-a936-6955d36f2bb6",
   "metadata": {},
   "outputs": [],
   "source": []
  },
  {
   "cell_type": "code",
   "execution_count": 96,
   "id": "e81b1464-f3a8-4fe1-a43d-f8b4f38df419",
   "metadata": {},
   "outputs": [
    {
     "data": {
      "image/png": "[encoded data removed]",
      "text/plain": [
       "<Figure size 920x800 with 1 Axes>"
      ]
     },
     "metadata": {},
     "output_type": "display_data"
    }
   ],
   "source": [
    "\n",
    "\n",
    "\n",
    "category_names = ['Elements', 'Relationships']\n",
    "# results = {\n",
    "#     'Question 1': [10, 15],\n",
    "#     'Question 2': [26, 22],\n",
    "#     'Question 3': [35, 37],\n",
    "#     'Question 4': [32, 11],\n",
    "#     'Question 5': [21, 29],\n",
    "#     'Question 6': [8, 19]\n",
    "# }\n",
    "\n",
    "results ={}\n",
    "\n",
    "for _, row in totalelements_df.iterrows():\n",
    "    results[row['US Set']]= [row['Sum_Elements'], row['Sum_relationships']]\n",
    "\n",
    "\n",
    "def survey(results, category_names, cmap):\n",
    "    \"\"\"\n",
    "    Parameters\n",
    "    ----------\n",
    "    results : dict\n",
    "        A mapping from question labels to a list of answers per category.\n",
    "        It is assumed all lists contain the same number of entries and that\n",
    "        it matches the length of *category_names*.\n",
    "    category_names : list of str\n",
    "        The category labels.\n",
    "    \"\"\"\n",
    "    labels = list(results.keys())\n",
    "    data = np.array(list(results.values()))\n",
    "    data_cum = data.cumsum(axis=1)\n",
    "    category_colors = plt.get_cmap(cmap)(\n",
    "        np.linspace(0.15, 0.85, data.shape[1]))\n",
    "\n",
    "    fig, ax = plt.subplots(figsize=(9.2, 8))\n",
    "    ax.invert_yaxis()\n",
    "    ax.xaxis.set_visible(False)\n",
    "    ax.set_xlim(0, np.sum(data, axis=1).max())\n",
    "\n",
    "    for i, (colname, color) in enumerate(zip(category_names, category_colors)):\n",
    "        widths = data[:, i]\n",
    "        starts = data_cum[:, i] - widths\n",
    "        ax.barh(labels, widths, left=starts, height=0.5,\n",
    "                label=colname, color=color)\n",
    "        xcenters = starts + widths / 2\n",
    "\n",
    "        r, g, b, _ = color\n",
    "        text_color = 'white' if r * g * b < 0.5 else 'darkgrey'\n",
    "        for y, (x, c) in enumerate(zip(xcenters, widths)):\n",
    "            ax.text(x, y, str(int(c)), ha='center', va='center',\n",
    "                    color=text_color)\n",
    "    ax.legend(ncol=len(category_names), bbox_to_anchor=(0, 1),\n",
    "              loc='lower left', fontsize='small')\n",
    "    plt.tight_layout()\n",
    "    return fig, ax\n",
    "\n",
    "\n",
    "survey(results, category_names, 'cividis')\n",
    "plt.savefig('./elements_vs_relationships.png');"
   ]
  },
  {
   "cell_type": "code",
   "execution_count": null,
   "id": "b83dc8a3-a9fa-4dfb-8b02-1e7295deca41",
   "metadata": {},
   "outputs": [],
   "source": [
    "category_names = ['Actors', 'Goals', 'Soft Goals',\n",
    "       'Tasks', 'Resources', 'Relationships']\n",
    "\n",
    "\n",
    "results ={}\n",
    "\n",
    "for _, row in totalelements_df.iterrows():\n",
    "    results[row['US Set']]= [row['Actors'], row['Goals'], row['Soft Goals'],\n",
    "       row['Tasks'], row['Resources'], row['Sum_relationships']]\n",
    "\n",
    "survey(results, category_names, 'RdYlGn')\n",
    "plt.savefig('./elements_llm_vs_nlp_detailed.png');"
   ]
  },
  {
   "cell_type": "code",
   "execution_count": null,
   "id": "3e640c5a-59a1-4bd7-9594-044453ee8070",
   "metadata": {},
   "outputs": [],
   "source": []
  },
  {
   "cell_type": "code",
   "execution_count": 48,
   "id": "96f5abff-6394-45e6-8c40-3c1fabdf8939",
   "metadata": {},
   "outputs": [
    {
     "data": {
      "image/png": "[encoded data removed]",
      "text/plain": [
       "<Figure size 640x480 with 1 Axes>"
      ]
     },
     "metadata": {},
     "output_type": "display_data"
    }
   ],
   "source": [
    "\n",
    "X_axis = np.arange(totalelements_df.shape[0]) \n",
    "  \n",
    "plt.bar(X_axis - 0.2, totalelements_df['intentional elements in LLM'], 0.4, label = 'Extracted', color = 'b') \n",
    "plt.bar(X_axis + 0.2, totalelements_df['Intentional elements in Goal model'], 0.4, label = 'Modeled', color = 'g') \n",
    "  \n",
    "plt.xticks(X_axis, totalelements_df['US Set']) \n",
    "plt.xlabel(\"\") \n",
    "plt.ylabel(\"Number of intentional elements\") \n",
    "plt.title(\"Comparison of intentional elements identified vs modeled by LLM\") \n",
    "plt.xticks(rotation=90);\n",
    "plt.legend() \n",
    "plt.tight_layout()\n",
    "plt.savefig('./elements_extracted_vs_modeled.png');"
   ]
  },
  {
   "cell_type": "code",
   "execution_count": 31,
   "id": "a26e4fd7-734a-445f-b5eb-007afa969245",
   "metadata": {},
   "outputs": [
    {
     "data": {
      "text/plain": [
       "22"
      ]
     },
     "execution_count": 31,
     "metadata": {},
     "output_type": "execute_result"
    }
   ],
   "source": [
    "totalelements_df.shape[0]"
   ]
  },
  {
   "cell_type": "code",
   "execution_count": 33,
   "id": "834c26f8-82c8-488e-8f75-df04da86c54e",
   "metadata": {},
   "outputs": [
    {
     "data": {
      "text/plain": [
       "array([0, 1, 2, 3])"
      ]
     },
     "execution_count": 33,
     "metadata": {},
     "output_type": "execute_result"
    }
   ],
   "source": [
    "np.arange(len(X)) "
   ]
  },
  {
   "cell_type": "code",
   "execution_count": null,
   "id": "db98fb10-5f7c-407a-85c8-f78d9541b07b",
   "metadata": {},
   "outputs": [],
   "source": []
  }
 ],
 "metadata": {
  "kernelspec": {
   "display_name": "Python 3 (ipykernel)",
   "language": "python",
   "name": "python3"
  },
  "language_info": {
   "codemirror_mode": {
    "name": "ipython",
    "version": 3
   },
   "file_extension": ".py",
   "mimetype": "text/x-python",
   "name": "python",
   "nbconvert_exporter": "python",
   "pygments_lexer": "ipython3",
   "version": "3.8.10"
  }
 },
 "nbformat": 4,
 "nbformat_minor": 5
}
